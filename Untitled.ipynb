{
 "cells": [
  {
   "cell_type": "markdown",
   "id": "9363e598",
   "metadata": {},
   "source": [
    "## EXIF Metadata in Images"
   ]
  },
  {
   "cell_type": "code",
   "execution_count": 1,
   "id": "42e4f1ba",
   "metadata": {},
   "outputs": [],
   "source": [
    "import os\n",
    "import cv2\n",
    "import exif"
   ]
  },
  {
   "cell_type": "code",
   "execution_count": 2,
   "id": "8978b579",
   "metadata": {},
   "outputs": [
    {
     "name": "stdout",
     "output_type": "stream",
     "text": [
      "Original Image Size :  3001 MB\n"
     ]
    }
   ],
   "source": [
    "original_size = os.path.getsize('original.JPG')\n",
    "print('Original Image Size : ', int(original_size/1024), 'MB')"
   ]
  },
  {
   "cell_type": "code",
   "execution_count": 3,
   "id": "c7d4d84a",
   "metadata": {},
   "outputs": [
    {
     "data": {
      "text/plain": [
       "True"
      ]
     },
     "execution_count": 3,
     "metadata": {},
     "output_type": "execute_result"
    }
   ],
   "source": [
    "img = cv2.imread('original.JPG')\n",
    "cv2.imwrite('OpenCV_write.JPG', img)"
   ]
  },
  {
   "cell_type": "code",
   "execution_count": 4,
   "id": "7ab53514",
   "metadata": {},
   "outputs": [
    {
     "name": "stdout",
     "output_type": "stream",
     "text": [
      "OpenCV Image Size :  2043 MB\n"
     ]
    }
   ],
   "source": [
    "opencv_img_size = os.path.getsize('OpenCV_write.JPG')\n",
    "print('OpenCV Image Size : ', int(opencv_img_size/1024), 'MB')"
   ]
  },
  {
   "cell_type": "markdown",
   "id": "aa70cb58",
   "metadata": {},
   "source": [
    "Clearly, some information has been lost while writing the image. It is because OpenCV does not parse the EXIF information. It only loads the image data as a numpy array. Let's load the images and varify with the help of exif."
   ]
  },
  {
   "cell_type": "code",
   "execution_count": 9,
   "id": "81f58d75",
   "metadata": {},
   "outputs": [
    {
     "name": "stdout",
     "output_type": "stream",
     "text": [
      "Original Image has exif info:  True\n",
      "OpenCV Image has exif info :  False\n",
      "office image has exif info :  True\n"
     ]
    }
   ],
   "source": [
    "original = exif.Image('original.JPG')\n",
    "opencv_img = exif.Image('OpenCV_write.JPG')\n",
    "office = exif.Image('office.jpg')\n",
    "\n",
    "print('Original Image has exif info: ', original.has_exif)\n",
    "print('OpenCV Image has exif info : ', opencv_img.has_exif)\n",
    "print('office image has exif info : ', office.has_exif)"
   ]
  },
  {
   "cell_type": "markdown",
   "id": "842e0dd6",
   "metadata": {},
   "source": [
    "Let's check what are the different data available in exif."
   ]
  },
  {
   "cell_type": "code",
   "execution_count": 10,
   "id": "b5b80e6e",
   "metadata": {},
   "outputs": [
    {
     "data": {
      "text/plain": [
       "['<unknown EXIF tag 34965>',\n",
       " '<unknown EXIF tag 39321>',\n",
       " '<unknown EXIF tag 39594>',\n",
       " '_exif_ifd_pointer',\n",
       " '_gps_ifd_pointer',\n",
       " '_interoperability_ifd_Pointer',\n",
       " '_segments',\n",
       " 'aperture_value',\n",
       " 'brightness_value',\n",
       " 'color_space',\n",
       " 'components_configuration',\n",
       " 'datetime',\n",
       " 'datetime_digitized',\n",
       " 'datetime_original',\n",
       " 'delete',\n",
       " 'delete_all',\n",
       " 'exif_version',\n",
       " 'exposure_bias_value',\n",
       " 'exposure_mode',\n",
       " 'exposure_program',\n",
       " 'exposure_time',\n",
       " 'f_number',\n",
       " 'flash',\n",
       " 'flashpix_version',\n",
       " 'focal_length',\n",
       " 'focal_length_in_35mm_film',\n",
       " 'get',\n",
       " 'get_all',\n",
       " 'get_file',\n",
       " 'get_thumbnail',\n",
       " 'gps_altitude',\n",
       " 'gps_altitude_ref',\n",
       " 'gps_datestamp',\n",
       " 'gps_latitude',\n",
       " 'gps_latitude_ref',\n",
       " 'gps_longitude',\n",
       " 'gps_longitude_ref',\n",
       " 'gps_processing_method',\n",
       " 'gps_timestamp',\n",
       " 'has_exif',\n",
       " 'image_height',\n",
       " 'image_width',\n",
       " 'light_source',\n",
       " 'list_all',\n",
       " 'make',\n",
       " 'max_aperture_value',\n",
       " 'metering_mode',\n",
       " 'model',\n",
       " 'orientation',\n",
       " 'photographic_sensitivity',\n",
       " 'pixel_x_dimension',\n",
       " 'pixel_y_dimension',\n",
       " 'resolution_unit',\n",
       " 'scene_capture_type',\n",
       " 'scene_type',\n",
       " 'sensing_method',\n",
       " 'shutter_speed_value',\n",
       " 'subsec_time',\n",
       " 'subsec_time_digitized',\n",
       " 'subsec_time_original',\n",
       " 'white_balance',\n",
       " 'x_resolution',\n",
       " 'y_and_c_positioning',\n",
       " 'y_resolution']"
      ]
     },
     "execution_count": 10,
     "metadata": {},
     "output_type": "execute_result"
    }
   ],
   "source": [
    "dir(office)"
   ]
  },
  {
   "cell_type": "code",
   "execution_count": 19,
   "id": "66f08a0b",
   "metadata": {},
   "outputs": [
    {
     "data": {
      "text/plain": [
       "''"
      ]
     },
     "execution_count": 19,
     "metadata": {},
     "output_type": "execute_result"
    }
   ],
   "source": [
    "original.get('camera_owner_name')"
   ]
  },
  {
   "cell_type": "code",
   "execution_count": 20,
   "id": "108d44e5",
   "metadata": {},
   "outputs": [
    {
     "data": {
      "text/plain": [
       "'028021000159'"
      ]
     },
     "execution_count": 20,
     "metadata": {},
     "output_type": "execute_result"
    }
   ],
   "source": [
    "original.get('body_serial_number')"
   ]
  },
  {
   "cell_type": "code",
   "execution_count": 21,
   "id": "f66e3cb9",
   "metadata": {},
   "outputs": [
    {
     "data": {
      "text/plain": [
       "2"
      ]
     },
     "execution_count": 21,
     "metadata": {},
     "output_type": "execute_result"
    }
   ],
   "source": [
    "original.get('gps_version_id')"
   ]
  },
  {
   "cell_type": "code",
   "execution_count": 23,
   "id": "554ed145",
   "metadata": {},
   "outputs": [
    {
     "data": {
      "text/plain": [
       "'Canon'"
      ]
     },
     "execution_count": 23,
     "metadata": {},
     "output_type": "execute_result"
    }
   ],
   "source": [
    "original.get('make')"
   ]
  },
  {
   "cell_type": "code",
   "execution_count": 24,
   "id": "d0512687",
   "metadata": {},
   "outputs": [
    {
     "data": {
      "text/plain": [
       "72.0"
      ]
     },
     "execution_count": 24,
     "metadata": {},
     "output_type": "execute_result"
    }
   ],
   "source": [
    "original.get('x_resolution')"
   ]
  },
  {
   "cell_type": "code",
   "execution_count": 25,
   "id": "d89069cf",
   "metadata": {},
   "outputs": [
    {
     "data": {
      "text/plain": [
       "3360"
      ]
     },
     "execution_count": 25,
     "metadata": {},
     "output_type": "execute_result"
    }
   ],
   "source": [
    "original.get('pixel_x_dimension')"
   ]
  },
  {
   "cell_type": "code",
   "execution_count": 26,
   "id": "32a6f874",
   "metadata": {},
   "outputs": [
    {
     "data": {
      "text/plain": [
       "<ColorSpace.SRGB: 1>"
      ]
     },
     "execution_count": 26,
     "metadata": {},
     "output_type": "execute_result"
    }
   ],
   "source": [
    "original.get('color_space')"
   ]
  },
  {
   "cell_type": "code",
   "execution_count": 27,
   "id": "0dfcd24b",
   "metadata": {},
   "outputs": [
    {
     "data": {
      "text/plain": [
       "<Orientation.TOP_LEFT: 1>"
      ]
     },
     "execution_count": 27,
     "metadata": {},
     "output_type": "execute_result"
    }
   ],
   "source": [
    "original.get('orientation')"
   ]
  },
  {
   "cell_type": "code",
   "execution_count": null,
   "id": "dd22f3b7",
   "metadata": {},
   "outputs": [],
   "source": [
    "print(f\"Latitude: {original.gps_latitude} {original.gps_latitude_ref}\")"
   ]
  },
  {
   "cell_type": "code",
   "execution_count": null,
   "id": "d948113c",
   "metadata": {},
   "outputs": [],
   "source": []
  }
 ],
 "metadata": {
  "kernelspec": {
   "display_name": "Python 3 (ipykernel)",
   "language": "python",
   "name": "python3"
  },
  "language_info": {
   "codemirror_mode": {
    "name": "ipython",
    "version": 3
   },
   "file_extension": ".py",
   "mimetype": "text/x-python",
   "name": "python",
   "nbconvert_exporter": "python",
   "pygments_lexer": "ipython3",
   "version": "3.9.12"
  }
 },
 "nbformat": 4,
 "nbformat_minor": 5
}
